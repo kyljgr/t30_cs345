{
 "cells": [
  {
   "cell_type": "markdown",
   "metadata": {},
   "source": [
    "# Final Report"
   ]
  },
  {
   "cell_type": "markdown",
   "metadata": {},
   "source": [
    "**Dataset used:** https://github.com/florian-huber/weather_prediction_dataset\n"
   ]
  },
  {
   "cell_type": "markdown",
   "metadata": {},
   "source": [
    "### **Dataset description:**\n",
    "\n",
    "Above is the initial dataset we picked for our project. It includes 10 years worth of records of 12 different weather aspects in 18 different countries in Europe. It includes these cities: \n",
    "\n",
    "Basel, Budapest, Dresden, Dusseldorf, Kassel, Munchen, De Bilt, Maastricht, Heathrow, Ljubljana, Malmo, Stockholm, Montelimar, Perpignan, Tours, Rome, Oslo, Sonnblick.\n",
    "\n",
    "\n",
    "\n",
    "And these weather aspects:\n",
    "- Cloud cover in oktas\n",
    "- Wind direction in degrees\n",
    "- Wind speed in 1 m/s\n",
    "- Wind gust in 1 m/s\n",
    "- Humidity in fraction of 100%\n",
    "- Sea level pressure in 1000 hPa\n",
    "- Global radiation in 100 W/m2\n",
    "- Precipitation amount in 10mm\n",
    "- Sunshine in 1 Hours\n",
    "- Mean temperature in Celsius\n",
    "- Minimum temperature in Celsius\n",
    "- Maximum temperature in Celsius\n",
    "\n",
    "Mean, min, and max temperatures are provided for every location, the other observations are included when they are available. \n",
    "\n",
    "The data has been cleaned but not fully standardized in order to keep the units more accessible and readable. "
   ]
  },
  {
   "cell_type": "markdown",
   "metadata": {},
   "source": [
    "## **Methods:**\n",
    "\n",
    "### **Preprocessing and Visualization**\n",
    "\n",
    "Our first step was to proccess the data and try to understand which parts of the data we wanted to use. Originally we were looking at the entire set of data which includes 18 different European countries during a 10 year period of time. Each city was observed during this time and the measurements of cloud cover, wind direction, wind speed, wind gust, humidity, sea level pressure, global radiation, precipitation amount, sunshine, and mean, max, and min temperatures were recorded. Just looking at the overall dataset we immediately decided that the 12 different measurements for 18 different places during the 10 year period would be too much for us to focus on and get accurate results. We decided to narrow down our search to a specific section of the data, just one country in Europe. In order to figure out which section we wanted to focus on we had to first find locations that had all the measurements. Through a search of the data we found that Germany had 3 locations in the dataset, Dresden, Kassel, and Dusseldorf that all had enough measurements to focus on. We then decided that it would be more beneficial to focus specifically on temperature, instead of trying to predict all the other aspects of the data. \n",
    "\n",
    "Our dataset that we will be focusing on in this report is the Germany cities of Dresden, Kassel, and Dusseldorf, and their mean, max, and min temperatures throughout the 10 years. We will also use wind speed, wind gust, humidity, global radiation, precipitation, and sunshine in our model. We will be trying to predict temperature mean, max, and min for these cities.\n",
    "\n",
    "Data preprocessing can be found here: [Preprocessing Notebook](https://github.com/kyljgr/t30_cs345/blob/main/data_preprocessing.ipynb)\n",
    "\n",
    "The visualization of our dataset can be found here: [Visualization Notebook](https://github.com/kyljgr/t30_cs345/blob/es_data_visualization/data_visualization.ipynb)\n",
    "\n",
    "### **Training our model**\n",
    "\n",
    "*LightGBM is needed to run our model as we use LightGBM as our algorithm to make predictions.*\n",
    "\n",
    "It can be installed using: *conda install lightgbm*\n",
    "\n",
    "In training our model we started by reading in the preprocessed data from the csv file here: [Preprocessed.csv](https://github.com/kyljgr/t30_cs345/blob/main/preprocessed.csv)\n",
    "\n",
    "We then defined which cities we are using and which features we will be focusing on. Next, we created our target which is the cities we are focusing on and the temperature observations. Using the features provided in the dataset, not including DATE, as X, and the target we just defined as y, we split the data using train test split. Using lightgbm as our classifier, we fit the training data. Then we stored the city and temp in our model and used that to make predictions. We then calculated the accuracy of those predictions using the Mean Squared Error(MSE). This gives us the initial training score and the MSE for each temperature observation in each city.\n",
    "\n",
    "We then created new data to use to test on a new input. This data includes the three cities as well as their mean, max, and min temperatures, wind speed, and gust, humidity, global radiation, precipitation, and sunshine. We then made predicitions based on this new set of data. From this we printed out the predictions of temp_mean, temp_max, and temp_min for each city. \n",
    "\n",
    "The training of our model can be found here: [Model](https://github.com/kyljgr/t30_cs345/blob/main/models_ddk.ipynb)"
   ]
  },
  {
   "cell_type": "markdown",
   "metadata": {},
   "source": [
    "## **Results:**\n",
    "\n",
    "### **Description of Results**\n",
    "\n",
    "Making predictions based on the data given to us gives us the starting training score and the MSE for each feature of each city. The results can be seen in the [Model](https://github.com/kyljgr/t30_cs345/blob/main/models_ddk.ipynb) notebook above but here is an example of that result for DRESDEN. \n",
    "\n",
    "<img src=\"Dresden.png\" alt=\"Dresden temps\" width=\"800\"/>\n",
    "\n",
    "Using the new data that we created to use for custom input gave us the predictions of the temp mean, max and min for each city as seen below:\n",
    "\n",
    "<img src=\"Predictions.png\" alt=\"Temperature Predictions\" width=\"400\"/>\n",
    "\n",
    "\n",
    "More analysis of results...\n",
    "\n",
    "### **What we have learned**\n",
    "\n",
    "From this project, we have learned..."
   ]
  },
  {
   "cell_type": "markdown",
   "metadata": {},
   "source": []
  }
 ],
 "metadata": {
  "language_info": {
   "name": "python"
  }
 },
 "nbformat": 4,
 "nbformat_minor": 2
}
