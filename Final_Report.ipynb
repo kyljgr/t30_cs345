{
 "cells": [
  {
   "cell_type": "markdown",
   "metadata": {},
   "source": [
    "# Final Report"
   ]
  },
  {
   "cell_type": "markdown",
   "metadata": {},
   "source": [
    "**Dataset used:** https://github.com/florian-huber/weather_prediction_dataset\n"
   ]
  },
  {
   "cell_type": "markdown",
   "metadata": {},
   "source": [
    "**Dataset description:**\n",
    "\n",
    "Above is the initial dataset we picked for our project. We narrowed down the focus to just cities in Germany including Kassel, Dusseldorf, and Dresden. This way we are able to make predictions on a smaller area in hopes that this will provide a more accurate result. We will be focusing our predictions on temperature in these cities using maximum, minimum, and mean temperature data points. \n"
   ]
  },
  {
   "cell_type": "markdown",
   "metadata": {},
   "source": [
    "**Methods:**\n",
    "\n",
    "//description of what we did and how we did it, results presented clearly in graphs and tables"
   ]
  },
  {
   "cell_type": "markdown",
   "metadata": {},
   "source": [
    "**Results:**\n",
    "\n",
    "//describe results and what we have learned from the exploration"
   ]
  },
  {
   "cell_type": "markdown",
   "metadata": {},
   "source": []
  }
 ],
 "metadata": {
  "language_info": {
   "name": "python"
  }
 },
 "nbformat": 4,
 "nbformat_minor": 2
}
