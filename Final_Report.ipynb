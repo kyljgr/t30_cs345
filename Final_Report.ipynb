{
 "cells": [
  {
   "cell_type": "markdown",
   "metadata": {},
   "source": [
    "# Final Report"
   ]
  },
  {
   "cell_type": "markdown",
   "metadata": {},
   "source": [
    "**Dataset used:** https://github.com/florian-huber/weather_prediction_dataset\n"
   ]
  },
  {
   "cell_type": "markdown",
   "metadata": {},
   "source": [
    "**Dataset description:**\n",
    "\n",
    "Above is the initial dataset we picked for our project. It includes 10 years worth of records of 12 different weather aspects in 18 different countries in Europe. It includes these cities: \n",
    "\n",
    "Basel, Budapest, Dresden, Dusseldorf, Kassel, Munchen, De Bilt, Maastricht, Heathrow, Ljubljana, Malmo, Stockholm, Montelimar, Perpignan, Tours, Rome, Oslo, Sonnblick.\n",
    "\n",
    "\n",
    "\n",
    "And these weather aspects:\n",
    "- Cloud cover in oktas\n",
    "- Wind direction in degrees\n",
    "- Wind speed in 1 m/s\n",
    "- Wind gust in 1 m/s\n",
    "- Humidity in fraction of 100%\n",
    "- Sea level pressure in 1000 hPa\n",
    "- Global radiation in 100 W/m2\n",
    "- Precipitation amount in 10mm\n",
    "- Sunshine in 1 Hours\n",
    "- Mean temperature in Celsius\n",
    "- Minimum temperature in Celsius\n",
    "- Maximum temperature in Celsius\n",
    "\n",
    "Mean, min, and max temperatures are provided for every location, the other observations are included when they are available. \n",
    "\n",
    "The data has been cleaned but not fully standardized in order to keep the units more accessible and readable. "
   ]
  },
  {
   "cell_type": "markdown",
   "metadata": {},
   "source": [
    "**Methods:**\n",
    "\n",
    "//description of what we did and how we did it, results presented clearly in graphs and tables\n",
    "\n",
    "### **Preprocessing and Visualization**\n",
    "\n",
    "Our first step was to proccess the data and try to understand which parts of the data we wanted to use. Originally we were looking at the entire set of data which includes 18 different European countries during a 10 year period of time. Each city was observed during this time and the measurements of cloud cover, wind direction, wind speed, wind gust, humidity, sea level pressure, global radiation, precipitation amount, sunshine, and mean, max, and min temperatures were recorded. Just looking at the overall dataset we immediately decided that the 12 different measurements for 18 different places during the 10 year period would be too much for us to focus on and get accurate results. We decided to narrow down our search to a specific section of the data, just one country in Europe. In order to figure out which section we wanted to focus on we had to first find locations that had all the measurements. Through a search of the data we found that Germany had 3 locations in the dataset, Dresden, Kassel, and Dusseldorf that all had enough measurements to focus on. We then decided that it would be more beneficial to focus specifically on temperature, instead of trying to predict all the other aspects of the data. \n",
    "\n",
    "Our dataset that we will be focusing on in this report is the Germany cities of Dresden, Kassel, and Dusseldorf, and their mean, max, and min temperatures throughout the 10 years.  \n",
    "\n",
    "Data preprocessing can be found here: [Preprocessing Notebook](https://github.com/kyljgr/t30_cs345/blob/main/data_preprocessing.ipynb)\n",
    "\n",
    "The visualization of our dataset can be found here: [Visualization Notebook](https://github.com/kyljgr/t30_cs345/blob/es_data_visualization/data_visualization.ipynb)"
   ]
  },
  {
   "cell_type": "markdown",
   "metadata": {},
   "source": [
    "**Results:**\n",
    "\n",
    "//describe results and what we have learned from the exploration"
   ]
  },
  {
   "cell_type": "markdown",
   "metadata": {},
   "source": []
  }
 ],
 "metadata": {
  "language_info": {
   "name": "python"
  }
 },
 "nbformat": 4,
 "nbformat_minor": 2
}
