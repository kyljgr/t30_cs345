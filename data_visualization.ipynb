{
 "cells": [
  {
   "cell_type": "code",
   "execution_count": 30,
   "metadata": {},
   "outputs": [
    {
     "name": "stdout",
     "output_type": "stream",
     "text": [
      "(3654, 28)\n"
     ]
    },
    {
     "name": "stderr",
     "output_type": "stream",
     "text": [
      "/var/folders/9c/96w8xdl529q_xyskrxf6n5j00000gn/T/ipykernel_54197/400529863.py:16: FutureWarning: Setting an item of incompatible dtype is deprecated and will raise in a future error of pandas. Value '2000-1-1' has dtype incompatible with int64, please explicitly cast to a compatible dtype first.\n",
      "  df.at[i, 'DATE'] = (f\"{year}-{month}-{day}\")\n"
     ]
    }
   ],
   "source": [
    "import pandas as pd\n",
    "\n",
    "file_path = 'preprocessed.csv'\n",
    "\n",
    "df = pd.read_csv(file_path)\n",
    "\n",
    "# 3654 rows, 28 col (DATE + 9 for each location sensor)\n",
    "print(df.shape)\n",
    "\n",
    "#Convert Dates \n",
    "# Need to convert to string? incompatible with int64\n",
    "for i in range(len(df)):\n",
    "    year = df.at[i, 'DATE'] // 10000\n",
    "    month = df.at[i, 'DATE'] % 10000 // 100\n",
    "    day = df.at[i, 'DATE'] % 100\n",
    "    df.at[i, 'DATE'] = (f\"{year}-{month}-{day}\")\n",
    "    \n",
    "\n",
    "# Convert temps to farenheit\n",
    "# Maybe find a way to do it by some includes method \n",
    "for j in range(len(df)):\n",
    "    max_temp = df.at[j, 'DRESDEN_temp_max'] * 9/5 + 32\n",
    "    df.at[j, 'DRESDEN_temp_max'] = max_temp\n",
    "    min_temp = df.at[j, 'DRESDEN_temp_min'] * 9/5 + 32\n",
    "    df.at[j, 'DRESDEN_temp_min'] = min_temp\n",
    "    mean_temp = df.at[j, 'DRESDEN_temp_mean'] * 9/5 + 32\n",
    "    df.at[j, 'DRESDEN_temp_mean'] = max_temp\n",
    "    max_temp = df.at[j, 'KASSEL_temp_max'] * 9/5 + 32\n",
    "    df.at[j, 'KASSEL_temp_max'] = max_temp\n",
    "    min_temp = df.at[j, 'KASSEL_temp_min'] * 9/5 + 32\n",
    "    df.at[j, 'KASSEL_temp_min'] = min_temp\n",
    "    mean_temp = df.at[j, 'KASSEL_temp_mean'] * 9/5 + 32\n",
    "    df.at[j, 'KASSEL_temp_mean'] = max_temp\n",
    "    max_temp = df.at[j, 'DUSSELDORF_temp_max'] * 9/5 + 32\n",
    "    df.at[j, 'DUSSELDORF_temp_max'] = max_temp\n",
    "    min_temp = df.at[j, 'DUSSELDORF_temp_min'] * 9/5 + 32\n",
    "    df.at[j, 'DUSSELDORF_temp_min'] = min_temp\n",
    "    mean_temp = df.at[j, 'DUSSELDORF_temp_mean'] * 9/5 + 32\n",
    "    df.at[j, 'DUSSELDORF_temp_mean'] = max_temp\n",
    "    \n",
    "# print(df['DRESDEN_temp_max'])\n",
    "# print(df['DRESDEN_temp_min'])\n",
    "# print(df['DRESDEN_temp_mean'])\n",
    "# print(df['KASSEL_temp_max'])\n",
    "# print(df['KASSEL_temp_min'])\n",
    "# print(df['KASSEL_temp_mean'])\n",
    "# print(df['DUSSELDORF_temp_max'])\n",
    "# print(df['DUSSELDORF_temp_min'])\n",
    "# print(df['DUSSELDORF_temp_mean'])"
   ]
  },
  {
   "cell_type": "markdown",
   "metadata": {},
   "source": [
    "**Possible Ideas for Visualization**\n",
    "* graph to see any anomalies\n",
    "* time series plot, histograms for indivudal data points\n",
    "* convert to fahrenheit \n"
   ]
  }
 ],
 "metadata": {
  "kernelspec": {
   "display_name": "Python 3",
   "language": "python",
   "name": "python3"
  },
  "language_info": {
   "codemirror_mode": {
    "name": "ipython",
    "version": 3
   },
   "file_extension": ".py",
   "mimetype": "text/x-python",
   "name": "python",
   "nbconvert_exporter": "python",
   "pygments_lexer": "ipython3",
   "version": "3.10.12"
  }
 },
 "nbformat": 4,
 "nbformat_minor": 2
}
