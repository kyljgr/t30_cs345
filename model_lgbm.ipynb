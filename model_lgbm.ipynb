{
 "cells": [
  {
   "cell_type": "code",
   "execution_count": 10,
   "metadata": {},
   "outputs": [],
   "source": [
    "# imports\n",
    "from sklearn.model_selection import train_test_split\n",
    "from sklearn.metrics import mean_squared_error\n",
    "from sklearn.multioutput import MultiOutputRegressor\n",
    "import lightgbm as lgb\n",
    "import pandas as pd"
   ]
  },
  {
   "cell_type": "code",
   "execution_count": 11,
   "metadata": {},
   "outputs": [],
   "source": [
    "file_path = 'preprocessed.csv'\n",
    "data = pd.read_csv(file_path)"
   ]
  },
  {
   "cell_type": "code",
   "execution_count": 12,
   "metadata": {},
   "outputs": [
    {
     "data": {
      "text/plain": [
       "((2923, 6), (731, 6), (2923, 3), (731, 3))"
      ]
     },
     "execution_count": 12,
     "metadata": {},
     "output_type": "execute_result"
    }
   ],
   "source": [
    "features_columns = ['DRESDEN_wind_speed', 'DRESDEN_wind_gust', 'DRESDEN_humidity',\n",
    "                   'DRESDEN_global_radiation', 'DRESDEN_precipitation', 'DRESDEN_sunshine']\n",
    "targets_columns = ['DRESDEN_temp_mean', 'DRESDEN_temp_max', 'DRESDEN_temp_min']\n",
    "\n",
    "X = data[features_columns]\n",
    "y = data[targets_columns]\n",
    "\n",
    "X_train, X_test, y_train, y_test = train_test_split(X, y, test_size=0.2, random_state=42)\n",
    "\n",
    "X_train.shape, X_test.shape, y_train.shape, y_test.shape"
   ]
  },
  {
   "cell_type": "code",
   "execution_count": 22,
   "metadata": {},
   "outputs": [
    {
     "name": "stdout",
     "output_type": "stream",
     "text": [
      "[LightGBM] [Info] Auto-choosing col-wise multi-threading, the overhead of testing was 0.000160 seconds.\n",
      "You can set `force_col_wise=true` to remove the overhead.\n",
      "[LightGBM] [Info] Total Bins 880\n",
      "[LightGBM] [Info] Number of data points in the train set: 2923, number of used features: 6\n",
      "[LightGBM] [Info] Start training from score 9.821587\n",
      "[LightGBM] [Info] Auto-choosing col-wise multi-threading, the overhead of testing was 0.000154 seconds.\n",
      "You can set `force_col_wise=true` to remove the overhead.\n",
      "[LightGBM] [Info] Total Bins 880\n",
      "[LightGBM] [Info] Number of data points in the train set: 2923, number of used features: 6\n",
      "[LightGBM] [Info] Start training from score 13.692268\n",
      "[LightGBM] [Info] Auto-choosing col-wise multi-threading, the overhead of testing was 0.000124 seconds.\n",
      "You can set `force_col_wise=true` to remove the overhead.\n",
      "[LightGBM] [Info] Total Bins 880\n",
      "[LightGBM] [Info] Number of data points in the train set: 2923, number of used features: 6\n",
      "[LightGBM] [Info] Start training from score 5.952241\n",
      "(731, 3)\n",
      "[[17.67076668 24.22422843 10.20631001]\n",
      " [17.75538542 22.80272114 13.24814231]\n",
      " [19.31644088 25.73855425 12.58676117]\n",
      " ...\n",
      " [13.56673085 16.0223162   9.76599315]\n",
      " [ 1.44910859  3.54996261 -2.02007351]\n",
      " [ 3.53017132  4.93527009  1.84832642]]\n",
      "MSE for Mean Temperature: 22.79935969922657\n",
      "MSE for Max Temperature: 25.452236590085473\n",
      "MSE for Min Temperature: 24.08387363253574\n"
     ]
    }
   ],
   "source": [
    "lgb_model = lgb.LGBMRegressor(num_leaves=31, learning_rate=0.1, boosting_type='gbdt', n_estimators=100)\n",
    "model = MultiOutputRegressor(lgb_model)\n",
    "\n",
    "model.fit(X_train, y_train)\n",
    "\n",
    "y_pred = model.predict(X_test)\n",
    "\n",
    "print(y_pred.shape)\n",
    "print(y_pred)\n",
    "\n",
    "mse_temp_mean = mean_squared_error(y_test['DRESDEN_temp_mean'], y_pred[:, 0])\n",
    "mse_temp_max = mean_squared_error(y_test['DRESDEN_temp_max'], y_pred[:, 1])\n",
    "mse_temp_min = mean_squared_error(y_test['DRESDEN_temp_min'], y_pred[:, 2])\n",
    "\n",
    "print(f'MSE for Mean Temperature: {mse_temp_mean}')\n",
    "print(f'MSE for Max Temperature: {mse_temp_max}')\n",
    "print(f'MSE for Min Temperature: {mse_temp_min}')\n",
    "\n",
    "# TODO prediction\n",
    "# model.predict()"
   ]
  }
 ],
 "metadata": {
  "kernelspec": {
   "display_name": "Python 3",
   "language": "python",
   "name": "python3"
  },
  "language_info": {
   "codemirror_mode": {
    "name": "ipython",
    "version": 3
   },
   "file_extension": ".py",
   "mimetype": "text/x-python",
   "name": "python",
   "nbconvert_exporter": "python",
   "pygments_lexer": "ipython3",
   "version": "3.11.7"
  }
 },
 "nbformat": 4,
 "nbformat_minor": 2
}
