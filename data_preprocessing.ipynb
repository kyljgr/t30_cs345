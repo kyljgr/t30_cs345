{
 "cells": [
  {
   "cell_type": "code",
   "execution_count": 4,
   "metadata": {},
   "outputs": [
    {
     "name": "stdout",
     "output_type": "stream",
     "text": [
      "602910\n",
      "(3654, 165)\n",
      "Index(['DATE', 'MONTH', 'BASEL_cloud_cover', 'BASEL_humidity',\n",
      "       'BASEL_pressure', 'BASEL_global_radiation', 'BASEL_precipitation',\n",
      "       'BASEL_sunshine', 'BASEL_temp_mean', 'BASEL_temp_min',\n",
      "       ...\n",
      "       'STOCKHOLM_temp_min', 'STOCKHOLM_temp_max', 'TOURS_wind_speed',\n",
      "       'TOURS_humidity', 'TOURS_pressure', 'TOURS_global_radiation',\n",
      "       'TOURS_precipitation', 'TOURS_temp_mean', 'TOURS_temp_min',\n",
      "       'TOURS_temp_max'],\n",
      "      dtype='object', length=165)\n"
     ]
    }
   ],
   "source": [
    "# imports and dataset loading\n",
    "import pandas as pd\n",
    "\n",
    "file_path = 'imported_wp_fh/weather_prediction_dataset.csv'\n",
    "\n",
    "df = pd.read_csv(file_path)\n",
    "\n",
    "print(df.size)\n",
    "print(df.shape)\n",
    "print(df.columns)"
   ]
  },
  {
   "cell_type": "code",
   "execution_count": 5,
   "metadata": {},
   "outputs": [
    {
     "name": "stdout",
     "output_type": "stream",
     "text": [
      "DATE                      3654\n",
      "MONTH                     3654\n",
      "BASEL_cloud_cover         3654\n",
      "BASEL_humidity            3654\n",
      "BASEL_pressure            3654\n",
      "                          ... \n",
      "TOURS_global_radiation    3654\n",
      "TOURS_precipitation       3654\n",
      "TOURS_temp_mean           3654\n",
      "TOURS_temp_min            3654\n",
      "TOURS_temp_max            3654\n",
      "Length: 165, dtype: int64\n",
      "DRESDEN_temp_mean           3654\n",
      "DRESDEN_temp_max            3654\n",
      "DRESDEN_temp_min            3654\n",
      "DRESDEN_wind_speed          3654\n",
      "DRESDEN_wind_gust           3654\n",
      "DRESDEN_humidity            3654\n",
      "DRESDEN_global_radiation    3654\n",
      "DRESDEN_precipitation       3654\n",
      "DRESDEN_sunshine            3654\n",
      "dtype: int64\n",
      "DUSSELDORF_temp_mean           3654\n",
      "DUSSELDORF_temp_max            3654\n",
      "DUSSELDORF_temp_min            3654\n",
      "DUSSELDORF_wind_speed          3654\n",
      "DUSSELDORF_wind_gust           3654\n",
      "DUSSELDORF_humidity            3654\n",
      "DUSSELDORF_global_radiation    3654\n",
      "DUSSELDORF_precipitation       3654\n",
      "DUSSELDORF_sunshine            3654\n",
      "dtype: int64\n"
     ]
    }
   ],
   "source": [
    "column_counts = df.count()\n",
    "print(column_counts)\n",
    "\n",
    "\n",
    "# KASSEL DOES NOT HAVE cloud_cover\n",
    "\n",
    "# \"DRESDEN_cloud_cover\", \"DUSSELDORF_cloud_cover\", \"KASSEL_cloud_cover\",\n",
    "dresden_test = df[[\"DRESDEN_temp_mean\", \"DRESDEN_temp_max\", \"DRESDEN_temp_min\",  \"DRESDEN_wind_speed\", \"DRESDEN_wind_gust\", \"DRESDEN_humidity\", \"DRESDEN_global_radiation\", \"DRESDEN_precipitation\", \"DRESDEN_sunshine\"]]\n",
    "\n",
    "dusseldorf_test = df[[\"DUSSELDORF_temp_mean\", \"DUSSELDORF_temp_max\", \"DUSSELDORF_temp_min\",  \"DUSSELDORF_wind_speed\", \"DUSSELDORF_wind_gust\", \"DUSSELDORF_humidity\", \"DUSSELDORF_global_radiation\", \"DUSSELDORF_precipitation\", \"DUSSELDORF_sunshine\"]]\n",
    "\n",
    "kassel_test = df[[\"KASSEL_temp_mean\", \"KASSEL_temp_max\", \"KASSEL_temp_min\", \"KASSEL_wind_speed\", \"KASSEL_wind_gust\", \"KASSEL_humidity\", \"KASSEL_global_radiation\", \"KASSEL_precipitation\", \"KASSEL_sunshine\"]]\n",
    "\n",
    "\n",
    "\n",
    "dresden_counts = dresden_test.count()\n",
    "print(dresden_counts)\n",
    "\n",
    "\n",
    "dusseldorf_counts = dusseldorf_test.count()\n",
    "print(dusseldorf_counts)\n",
    "\n",
    "\n"
   ]
  },
  {
   "cell_type": "code",
   "execution_count": 6,
   "metadata": {},
   "outputs": [
    {
     "name": "stdout",
     "output_type": "stream",
     "text": [
      "(3654,)\n",
      "(3654, 9)\n",
      "(3654, 9)\n",
      "(3654, 9)\n",
      "Index(['DATE', 'DRESDEN_temp_mean', 'DRESDEN_temp_max', 'DRESDEN_temp_min',\n",
      "       'DRESDEN_wind_speed', 'DRESDEN_wind_gust', 'DRESDEN_humidity',\n",
      "       'DRESDEN_global_radiation', 'DRESDEN_precipitation', 'DRESDEN_sunshine',\n",
      "       'DUSSELDORF_temp_mean', 'DUSSELDORF_temp_max', 'DUSSELDORF_temp_min',\n",
      "       'DUSSELDORF_wind_speed', 'DUSSELDORF_wind_gust', 'DUSSELDORF_humidity',\n",
      "       'DUSSELDORF_global_radiation', 'DUSSELDORF_precipitation',\n",
      "       'DUSSELDORF_sunshine', 'KASSEL_temp_mean', 'KASSEL_temp_max',\n",
      "       'KASSEL_temp_min', 'KASSEL_wind_speed', 'KASSEL_wind_gust',\n",
      "       'KASSEL_humidity', 'KASSEL_global_radiation', 'KASSEL_precipitation',\n",
      "       'KASSEL_sunshine'],\n",
      "      dtype='object')\n",
      "(3654, 28)\n",
      "DATE                           0\n",
      "DRESDEN_temp_mean              0\n",
      "DRESDEN_temp_max               0\n",
      "DRESDEN_temp_min               0\n",
      "DRESDEN_wind_speed             0\n",
      "DRESDEN_wind_gust              0\n",
      "DRESDEN_humidity               0\n",
      "DRESDEN_global_radiation       0\n",
      "DRESDEN_precipitation          0\n",
      "DRESDEN_sunshine               0\n",
      "DUSSELDORF_temp_mean           0\n",
      "DUSSELDORF_temp_max            0\n",
      "DUSSELDORF_temp_min            0\n",
      "DUSSELDORF_wind_speed          0\n",
      "DUSSELDORF_wind_gust           0\n",
      "DUSSELDORF_humidity            0\n",
      "DUSSELDORF_global_radiation    0\n",
      "DUSSELDORF_precipitation       0\n",
      "DUSSELDORF_sunshine            0\n",
      "KASSEL_temp_mean               0\n",
      "KASSEL_temp_max                0\n",
      "KASSEL_temp_min                0\n",
      "KASSEL_wind_speed              0\n",
      "KASSEL_wind_gust               0\n",
      "KASSEL_humidity                0\n",
      "KASSEL_global_radiation        0\n",
      "KASSEL_precipitation           0\n",
      "KASSEL_sunshine                0\n",
      "dtype: int64\n"
     ]
    }
   ],
   "source": [
    "df_list = [df[\"DATE\"], dresden_test, dusseldorf_test, kassel_test]\n",
    "\n",
    "print(df[\"DATE\"].shape)\n",
    "print(dresden_test.shape)\n",
    "print(dusseldorf_test.shape)\n",
    "print(kassel_test.shape)\n",
    "\n",
    "df_fin = pd.concat(df_list, axis=1)\n",
    "\n",
    "print(df_fin.columns)\n",
    "print(df_fin.shape)\n",
    "print(df_fin.isna().sum())\n",
    "\n",
    "df_fin.to_csv('preprocessed.csv', index=False)"
   ]
  }
 ],
 "metadata": {
  "kernelspec": {
   "display_name": "Python 3",
   "language": "python",
   "name": "python3"
  },
  "language_info": {
   "codemirror_mode": {
    "name": "ipython",
    "version": 3
   },
   "file_extension": ".py",
   "mimetype": "text/x-python",
   "name": "python",
   "nbconvert_exporter": "python",
   "pygments_lexer": "ipython3",
   "version": "3.11.7"
  }
 },
 "nbformat": 4,
 "nbformat_minor": 2
}
