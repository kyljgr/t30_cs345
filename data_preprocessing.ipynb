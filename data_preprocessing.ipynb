{
 "cells": [
  {
   "cell_type": "code",
   "execution_count": 5,
   "metadata": {},
   "outputs": [
    {
     "name": "stdout",
     "output_type": "stream",
     "text": [
      "602910\n",
      "(3654, 165)\n",
      "Index(['DATE', 'MONTH', 'BASEL_cloud_cover', 'BASEL_humidity',\n",
      "       'BASEL_pressure', 'BASEL_global_radiation', 'BASEL_precipitation',\n",
      "       'BASEL_sunshine', 'BASEL_temp_mean', 'BASEL_temp_min',\n",
      "       ...\n",
      "       'STOCKHOLM_temp_min', 'STOCKHOLM_temp_max', 'TOURS_wind_speed',\n",
      "       'TOURS_humidity', 'TOURS_pressure', 'TOURS_global_radiation',\n",
      "       'TOURS_precipitation', 'TOURS_temp_mean', 'TOURS_temp_min',\n",
      "       'TOURS_temp_max'],\n",
      "      dtype='object', length=165)\n"
     ]
    }
   ],
   "source": [
    "# imports and dataset loading\n",
    "import pandas as pd\n",
    "\n",
    "file_path = 'imported_wp_fh/weather_prediction_dataset.csv'\n",
    "\n",
    "df = pd.read_csv(file_path)\n",
    "\n",
    "print(df.size)\n",
    "print(df.shape)\n",
    "print(df.columns)"
   ]
  },
  {
   "cell_type": "code",
   "execution_count": 8,
   "metadata": {},
   "outputs": [
    {
     "name": "stdout",
     "output_type": "stream",
     "text": [
      "DATE                      3654\n",
      "MONTH                     3654\n",
      "BASEL_cloud_cover         3654\n",
      "BASEL_humidity            3654\n",
      "BASEL_pressure            3654\n",
      "                          ... \n",
      "TOURS_global_radiation    3654\n",
      "TOURS_precipitation       3654\n",
      "TOURS_temp_mean           3654\n",
      "TOURS_temp_min            3654\n",
      "TOURS_temp_max            3654\n",
      "Length: 165, dtype: int64\n"
     ]
    }
   ],
   "source": [
    "column_counts = df.count()\n",
    "print(column_counts)\n",
    "\n",
    "\n"
   ]
  }
 ],
 "metadata": {
  "kernelspec": {
   "display_name": "Python 3",
   "language": "python",
   "name": "python3"
  },
  "language_info": {
   "codemirror_mode": {
    "name": "ipython",
    "version": 3
   },
   "file_extension": ".py",
   "mimetype": "text/x-python",
   "name": "python",
   "nbconvert_exporter": "python",
   "pygments_lexer": "ipython3",
   "version": "3.10.12"
  }
 },
 "nbformat": 4,
 "nbformat_minor": 2
}
